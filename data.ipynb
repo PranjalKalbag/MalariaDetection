{
 "cells": [
  {
   "cell_type": "code",
   "execution_count": 1,
   "metadata": {},
   "outputs": [],
   "source": [
    "import numpy as np\n",
    "import cv2\n",
    "import glob "
   ]
  },
  {
   "cell_type": "code",
   "execution_count": 2,
   "metadata": {},
   "outputs": [],
   "source": [
    "X=[]\n",
    "y=[]\n",
    "inf = glob.glob(\"/media/pranjal/DATA/Projects/Malaria detection/dataset/Infected/*.png\")\n",
    "uinf = glob.glob(\"/media/pranjal/DATA/Projects/Malaria detection/dataset/Uninfected/*.png\")\n"
   ]
  },
  {
   "cell_type": "code",
   "execution_count": 3,
   "metadata": {},
   "outputs": [],
   "source": [
    "for i in inf:\n",
    "    img = cv2.imread(i,0)\n",
    "    img = cv2.resize(img,(64,64))\n",
    "    img = np.reshape(img, (64,64,1))\n",
    "    X.append(img)\n",
    "    y.append(1)\n",
    "for i in uinf:\n",
    "    img = cv2.imread(i,0)\n",
    "    img = cv2.resize(img,(64,64))\n",
    "    img = np.reshape(img,(64,64,1))\n",
    "    X.append(img)\n",
    "    y.append(0)\n"
   ]
  },
  {
   "cell_type": "code",
   "execution_count": 4,
   "metadata": {},
   "outputs": [],
   "source": [
    "np.save(\"X.npy\",X)\n",
    "np.save(\"y.npy\",y)"
   ]
  },
  {
   "cell_type": "code",
   "execution_count": null,
   "metadata": {},
   "outputs": [],
   "source": []
  }
 ],
 "metadata": {
  "language_info": {
   "codemirror_mode": {
    "name": "ipython",
    "version": 3
   },
   "file_extension": ".py",
   "mimetype": "text/x-python",
   "name": "python",
   "nbconvert_exporter": "python",
   "pygments_lexer": "ipython3",
   "version": "3.8.2-final"
  },
  "orig_nbformat": 2,
  "kernelspec": {
   "name": "python38264bitc8c8a827479a4cc89be96abd0f44c497",
   "display_name": "Python 3.8.2 64-bit"
  }
 },
 "nbformat": 4,
 "nbformat_minor": 2
}